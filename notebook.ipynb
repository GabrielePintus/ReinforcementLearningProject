{
 "cells": [
  {
   "cell_type": "markdown",
   "metadata": {},
   "source": [
    "# Market Making with Reinforcement Learning"
   ]
  },
  {
   "cell_type": "code",
   "execution_count": 691,
   "metadata": {},
   "outputs": [],
   "source": [
    "# Data Handling\n",
    "import pandas as pd\n",
    "import numpy as np\n",
    "import pickle\n",
    "\n",
    "# Generic\n",
    "from tqdm.auto import tqdm\n",
    "\n",
    "# Data Visualization\n",
    "import matplotlib.pyplot as plt \n",
    "\n",
    "# Reinforcement Learning\n",
    "import gym\n",
    "\n",
    "# Custom Modules\n",
    "from Libraries import environment as env\n",
    "from Libraries import agents as ag\n",
    "from Libraries import tiling\n",
    "from Libraries.data_handling import DataGenerator\n",
    "from Libraries.utils import RLProblem\n",
    "from Libraries.policies import EpsilonGreedyPolicy\n",
    "\n",
    "# suppress warnings\n",
    "import warnings\n",
    "warnings.filterwarnings(\"ignore\")\n",
    "\n",
    "# Set the seed for reproducibility\n",
    "SEED = 42\n",
    "np.random.seed(SEED)"
   ]
  },
  {
   "cell_type": "markdown",
   "metadata": {},
   "source": [
    "## Define the state space boundaries"
   ]
  },
  {
   "cell_type": "code",
   "execution_count": 692,
   "metadata": {},
   "outputs": [
    {
     "name": "stdout",
     "output_type": "stream",
     "text": [
      "There is a total of 55108 episodes in the dataset\n",
      "The 1102 are unique episodes\n"
     ]
    }
   ],
   "source": [
    "levels = 10\n",
    "horizon = 50\n",
    "stockname = 'SAMPO'\n",
    "data_generator = DataGenerator(f'data/{stockname}.parquet', levels=levels, horizon=horizon, sequential=False)\n",
    "lob_data = data_generator[0]\n",
    "\n",
    "print(f'There is a total of {len(data_generator)} episodes in the dataset')\n",
    "print(f'The {round(len(data_generator)/horizon)} are unique episodes')"
   ]
  },
  {
   "cell_type": "code",
   "execution_count": 693,
   "metadata": {},
   "outputs": [],
   "source": [
    "action_bounds = np.array([-1, 9])\n",
    "# Compute state space bounds\n",
    "agent_state_bounds = np.array([\n",
    "    [-1e5, 1e5], # Inventory\n",
    "    [0,2], # Spread\n",
    "    [-1,5], # Theta_a\n",
    "    [-1,5], # Theta_b\n",
    "])\n",
    "market_state_bounds = np.array([\n",
    "    lob_data.min(axis=0) * 0.9,\n",
    "    lob_data.max(axis=0) * 1.1,\n",
    "]).T\n",
    "full_state_bounds = np.vstack([agent_state_bounds, market_state_bounds])\n",
    "\n",
    "# Add action bounds to each state\n",
    "agent_state_bounds = np.vstack([agent_state_bounds, action_bounds])\n",
    "market_state_bounds = np.vstack([market_state_bounds, action_bounds])\n",
    "full_state_bounds = np.vstack([full_state_bounds, action_bounds])\n",
    "\n",
    "# Group in a list\n",
    "state_space_boundaries = [agent_state_bounds, market_state_bounds, full_state_bounds]\n",
    "\n",
    "# Define the Linear Combination of Tile Codings weights\n",
    "lctc_weights = np.array([0.6, 0.1, 0.3])\n",
    "# lctc_weights = np.ones(3) / 3"
   ]
  },
  {
   "cell_type": "markdown",
   "metadata": {},
   "source": [
    "### Define the parameters for the Reinforcement Learning problem"
   ]
  },
  {
   "cell_type": "code",
   "execution_count": 694,
   "metadata": {},
   "outputs": [],
   "source": [
    "rl_problem_params = {\n",
    "    'data_path'         : f'data/{stockname}.parquet',\n",
    "    'levels'            : levels,\n",
    "    'horizon'           : horizon,\n",
    "    'environment_class' : env.Case3MarketMakerEnv,\n",
    "    'phi_transform'     : env.PhiTransform.PnL_asymm_dampened(c=-0.5),\n",
    "    'state_space_boundaries' : state_space_boundaries,\n",
    "    'agent_class'       : ag.SarsaLambdaAgent,\n",
    "    # 'agent_class'       : ag.QLambdaAgent,\n",
    "    # 'agent_class'       : ag.BasicAgent,\n",
    "    'value_function_class' : tiling.SparseTileEncodingApproximator,\n",
    "    'lctc_weights'    : lctc_weights,\n",
    "    'value_approx_params' : {\n",
    "        'n_tiles' : 16,\n",
    "        'n_tilings' : 8,\n",
    "        'offset' : 0.17,\n",
    "        # 'n_weights' : int(4096*4),\n",
    "        'n_weights' : int(1e5),\n",
    "\n",
    "    },\n",
    "    'agent_params' : {\n",
    "        'alpha' : 1e-3,\n",
    "        'gamma' : 0.99,\n",
    "        'el_decay' : 0.96,\n",
    "    },\n",
    "    'policy_class' : EpsilonGreedyPolicy,\n",
    "    'policy_params' : {\n",
    "        'epsilon' : 0.7,\n",
    "        'epsilon_decay' : 0.995,\n",
    "        'epsilon_min' : 1e-1,\n",
    "    },\n",
    "}\n",
    "\n",
    "rl_problem = RLProblem._from_dict(rl_problem_params)"
   ]
  },
  {
   "cell_type": "markdown",
   "metadata": {},
   "source": [
    "### Train"
   ]
  },
  {
   "cell_type": "code",
   "execution_count": 695,
   "metadata": {},
   "outputs": [
    {
     "data": {
      "application/vnd.jupyter.widget-view+json": {
       "model_id": "d0e065a90eec4d6aa5fe5d3cb43f313c",
       "version_major": 2,
       "version_minor": 0
      },
      "text/plain": [
       "  0%|          | 0/1000 [00:00<?, ?it/s]"
      ]
     },
     "metadata": {},
     "output_type": "display_data"
    }
   ],
   "source": [
    "train_rewards, train_infos = rl_problem.train(\n",
    "    n_scenarios=1000,\n",
    "    episodes_per_scenario=1,\n",
    "    iterarations_per_episode=1,\n",
    "    verbose=True\n",
    ")\n",
    "\n",
    "# Save with pickle\n",
    "# with open('train_rewards.pkl', 'wb') as f:\n",
    "#     pickle.dump(train_rewards, f)\n",
    "\n",
    "# with open('train_infos.pkl', 'wb') as f:\n",
    "#     pickle.dump(train_infos, f)"
   ]
  },
  {
   "cell_type": "code",
   "execution_count": 696,
   "metadata": {},
   "outputs": [],
   "source": [
    "# # First scenario\n",
    "# display(train_rewards[0].shape)\n",
    "# # First scenario, first episode\n",
    "# display(train_rewards[0][0].shape)\n",
    "# # First scenario, first episode, first iteration\n",
    "# display(train_rewards[0][0][0])"
   ]
  },
  {
   "cell_type": "code",
   "execution_count": 697,
   "metadata": {},
   "outputs": [],
   "source": [
    "# # train_rewards[i] has shape (n_episodes, n_iterations)\n",
    "# # Average reward over all scenarios\n",
    "# rew = np.array(list(train_rewards.values())).reshape(5,10)\n",
    "# avg_rew = rew.mean(0)"
   ]
  },
  {
   "cell_type": "code",
   "execution_count": 698,
   "metadata": {},
   "outputs": [],
   "source": [
    "# from scipy.interpolate import make_interp_spline\n",
    "\n",
    "# fig, ax = plt.subplots(1,1, figsize=(10,5))\n",
    "# # Color map from light blue to blue\n",
    "# color_gammas = plt.cm.Blues(np.linspace(0.2, 1, rew.shape[0]))\n",
    "# for i in range(rew.shape[0]):\n",
    "#     spline = make_interp_spline(\n",
    "#         np.arange(rew[i].shape[0]),\n",
    "#         rew[i],\n",
    "#         k=3,\n",
    "#         bc_type='clamped'\n",
    "#     )\n",
    "#     x = np.linspace(0, rew[i].shape[0], 1000)\n",
    "#     y = spline(x)\n",
    "#     # ax.plot(avg_rew[i], label=f'Scenario {i+1}', color=color_gammas[i])\n",
    "#     ax.plot(x, y, label=f'Episode {i+1}', color=color_gammas[i])\n",
    "# ax.legend()\n",
    "# ax.set_title('Average Reward per Episode')\n",
    "# fig.tight_layout()\n",
    "# plt.show()"
   ]
  },
  {
   "cell_type": "markdown",
   "metadata": {},
   "source": [
    "### Test"
   ]
  },
  {
   "cell_type": "code",
   "execution_count": 699,
   "metadata": {},
   "outputs": [
    {
     "data": {
      "application/vnd.jupyter.widget-view+json": {
       "model_id": "3765f6f6a6864dc185cff615cb019096",
       "version_major": 2,
       "version_minor": 0
      },
      "text/plain": [
       "  0%|          | 0/20 [00:00<?, ?it/s]"
      ]
     },
     "metadata": {},
     "output_type": "display_data"
    }
   ],
   "source": [
    "test_rewards, test_infos = rl_problem.test(\n",
    "    n_scenarios=20,\n",
    "    epsilon=0.0,\n",
    "    oos=True,\n",
    "    verbose=True\n",
    ")\n",
    "\n",
    "# Save with pickle\n",
    "# with open('test_rewards.pkl', 'wb') as f:\n",
    "#     pickle.dump(test_rewards, f)\n",
    "\n",
    "# with open('test_infos.pkl', 'wb') as f:\n",
    "#     pickle.dump(test_infos, f)"
   ]
  },
  {
   "cell_type": "code",
   "execution_count": 700,
   "metadata": {},
   "outputs": [
    {
     "name": "stdout",
     "output_type": "stream",
     "text": [
      "The average reward per episode is: -8.1% +/- 17.0%\n"
     ]
    },
    {
     "data": {
      "image/png": "[encoded data removed]",
      "text/plain": [
       "<Figure size 1000x500 with 1 Axes>"
      ]
     },
     "metadata": {},
     "output_type": "display_data"
    }
   ],
   "source": [
    "df_rewards = pd.DataFrame(test_rewards)\n",
    "# df_rewards.to_parquet('test_rewards.parquet', index=False, compression='lz4')\n",
    "# Compute the mean and std reward per episode\n",
    "rewards_mean = df_rewards.mean(axis=1).cumsum()\n",
    "rewards_std =  df_rewards.std(axis=1).cumsum()\n",
    "\n",
    "episode_reward = rewards_mean[len(rewards_mean)-1]\n",
    "episode_std = rewards_std[len(rewards_std)-1]\n",
    "\n",
    "er = round(100*rewards_mean[len(rewards_mean)-1],1)\n",
    "es = round(100*rewards_std[len(rewards_std)-1],1)\n",
    "\n",
    "print(f'The average reward per episode is: {er}% +/- {2*es}%')\n",
    "\n",
    "# Compute SMA\n",
    "rewards_mean = rewards_mean.rolling(window=5).mean()\n",
    "rewards_std = rewards_std.rolling(window=5).mean()\n",
    "\n",
    "fig, ax = plt.subplots(1,1, figsize=(10,5))\n",
    "n = len(rewards_mean)\n",
    "# n = 40\n",
    "ax.plot(rewards_mean[:n], label='Mean Reward')\n",
    "ax.fill_between(rewards_mean.index[:n], (rewards_mean - rewards_std)[:n], (rewards_mean + rewards_std)[:n], alpha=0.2, label='Standard Deviation')\n",
    "ax.legend()\n",
    "ax.set_title('Average Reward per Episode')\n",
    "fig.tight_layout()\n",
    "plt.show()"
   ]
  },
  {
   "cell_type": "code",
   "execution_count": 701,
   "metadata": {},
   "outputs": [],
   "source": [
    "def extract_info(infos, key):\n",
    "    arr = np.array([ [ info[key] for info in infos[0] ] for infos in infos.values() ])\n",
    "    return pd.DataFrame(arr)"
   ]
  }
 ],
 "metadata": {
  "kernelspec": {
   "display_name": "Python 3",
   "language": "python",
   "name": "python3"
  },
  "language_info": {
   "codemirror_mode": {
    "name": "ipython",
    "version": 3
   },
   "file_extension": ".py",
   "mimetype": "text/x-python",
   "name": "python",
   "nbconvert_exporter": "python",
   "pygments_lexer": "ipython3",
   "version": "3.12.7"
  }
 },
 "nbformat": 4,
 "nbformat_minor": 2
}
