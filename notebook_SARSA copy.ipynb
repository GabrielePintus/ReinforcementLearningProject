{
 "cells": [
  {
   "cell_type": "code",
   "execution_count": 1,
   "metadata": {},
   "outputs": [],
   "source": [
    "# Data Handling\n",
    "import pandas as pd\n",
    "import numpy as np\n",
    "\n",
    "# Generic\n",
    "from collections import defaultdict\n",
    "from tqdm.auto import tqdm\n",
    "\n",
    "# Data Visualization\n",
    "import matplotlib.pyplot as plt \n",
    "\n",
    "# Reinforcement Learning\n",
    "import gym\n",
    "from data.data_gen import DataGenerator\n",
    "from Environment.tiles3 import IHT, tiles\n",
    "\n",
    "# Custom Modules\n",
    "from Environment.market_making import MarketMakerEnv\n",
    "\n",
    "# suppress warnings\n",
    "import warnings\n",
    "warnings.filterwarnings(\"ignore\")\n",
    "\n",
    "# Set the seed for reproducibility\n",
    "SEED = 42\n",
    "np.random.seed(SEED)"
   ]
  },
  {
   "cell_type": "markdown",
   "metadata": {},
   "source": [
    "## Setup the training environment"
   ]
  },
  {
   "cell_type": "code",
   "execution_count": 2,
   "metadata": {},
   "outputs": [],
   "source": [
    "lob_data = DataGenerator._generator('data/lob.csv', levels=1)\n",
    "lob_data = lob_data.head(3000).values"
   ]
  },
  {
   "cell_type": "code",
   "execution_count": 3,
   "metadata": {},
   "outputs": [
    {
     "data": {
      "text/plain": [
       "array([ 2.23990000e+02,  1.00000000e+02,  2.23750000e+02,  7.40000000e+01,\n",
       "        2.23870000e+02,  2.40000000e-01, -5.00000000e-03, -1.49425287e-01,\n",
       "       -2.60000000e+01, -2.23338917e-05,  2.40100065e-05,  4.16666667e+01])"
      ]
     },
     "metadata": {},
     "output_type": "display_data"
    }
   ],
   "source": [
    "# Create the environment\n",
    "env = MarketMakerEnv(lob_data, 2500)\n",
    "initial_state = env.reset()\n",
    "display(initial_state)"
   ]
  },
  {
   "cell_type": "code",
   "execution_count": 4,
   "metadata": {},
   "outputs": [],
   "source": [
    "# Tile coding parameters\n",
    "num_tilings = 8\n",
    "tile_width = 8\n",
    "iht_size = 4096  # Size of the index hash table\n",
    "\n",
    "# Create the index hash table (IHT)\n",
    "iht = IHT(iht_size)\n",
    "\n",
    "def get_tile_coding(state, num_tilings, tile_width):\n",
    "    scaled_state = [state[i] * tile_width for i in range(len(state))]\n",
    "    tile_indices = tiles(iht, num_tilings, scaled_state)\n",
    "    return tile_indices\n"
   ]
  },
  {
   "cell_type": "code",
   "execution_count": 5,
   "metadata": {},
   "outputs": [],
   "source": [
    "alpha = 1e-2 / num_tilings  # Learning rate\n",
    "gamma = 0.99  # Discount factor\n",
    "lmbda = 0.9  # Trace decay parameter\n",
    "epsilon = 0.1  # Exploration rate\n",
    "num_episodes = 500  # Number of episodes for training\n"
   ]
  },
  {
   "cell_type": "code",
   "execution_count": 6,
   "metadata": {},
   "outputs": [],
   "source": [
    "num_actions = env.action_space.n\n",
    "weights = np.zeros(iht_size)\n",
    "eligibility_trace = np.zeros(iht_size)\n",
    "\n",
    "def get_q_value(state, action):\n",
    "    tile_indices = get_tile_coding(state + [action], num_tilings, tile_width)\n",
    "    q_value = np.sum(weights[tile_indices])\n",
    "    return q_value, tile_indices\n",
    "\n",
    "def select_action(state):\n",
    "    if np.random.random() < epsilon:\n",
    "        return env.action_space.sample()  # Explore\n",
    "    else:\n",
    "        q_values = [get_q_value(state, action)[0] for action in range(num_actions)]\n",
    "        return np.argmax(q_values)  # Exploit\n"
   ]
  },
  {
   "cell_type": "code",
   "execution_count": 7,
   "metadata": {},
   "outputs": [
    {
     "data": {
      "application/vnd.jupyter.widget-view+json": {
       "model_id": "e1ede259d82c41bb82bcee60f89db70b",
       "version_major": 2,
       "version_minor": 0
      },
      "text/plain": [
       "  0%|          | 0/500 [00:00<?, ?it/s]"
      ]
     },
     "metadata": {},
     "output_type": "display_data"
    },
    {
     "name": "stdout",
     "output_type": "stream",
     "text": [
      "Episode 0, Total Reward: -1306219.3899987824\n",
      "Episode 100, Total Reward: -502965.5499995865\n",
      "Episode 200, Total Reward: -542114.6699995514\n",
      "Episode 300, Total Reward: -135729.67999997275\n",
      "Episode 400, Total Reward: -595848.2899994311\n"
     ]
    }
   ],
   "source": [
    "for episode in tqdm(range(num_episodes)):\n",
    "    state = env.reset()\n",
    "    done = False\n",
    "    total_reward = 0\n",
    "\n",
    "    # Select the initial action using the epsilon-greedy policy\n",
    "    action = select_action(state)\n",
    "\n",
    "    while not done:\n",
    "        next_state, reward, done, info = env.step(action)\n",
    "        next_action = select_action(next_state)\n",
    "        \n",
    "        # Get Q-value and tile indices for the current state-action pair\n",
    "        q_value, tile_indices = get_q_value(state, action)\n",
    "        \n",
    "        # Get Q-value for the next state-action pair\n",
    "        next_q_value, _ = get_q_value(next_state, next_action)\n",
    "\n",
    "        # Calculate the TD error\n",
    "        td_error = reward + gamma * next_q_value - q_value\n",
    "\n",
    "        # Update eligibility traces\n",
    "        eligibility_trace *= gamma * lmbda\n",
    "        eligibility_trace[tile_indices] += 1\n",
    "\n",
    "        # Update weights using TD error and eligibility traces\n",
    "        weights += alpha * td_error * eligibility_trace\n",
    "\n",
    "        # Move to the next state and action\n",
    "        state = next_state\n",
    "        action = next_action\n",
    "        total_reward += reward\n",
    "\n",
    "    # Decay epsilon after each episode for exploration-exploitation balance\n",
    "    epsilon = max(0.01, epsilon * 0.995)\n",
    "\n",
    "    if episode % 100 == 0:\n",
    "        print(f\"Episode {episode}, Total Reward: {total_reward}\")"
   ]
  },
  {
   "cell_type": "code",
   "execution_count": 9,
   "metadata": {},
   "outputs": [
    {
     "name": "stdout",
     "output_type": "stream",
     "text": [
      "Total Reward: -170648.96499983507\n"
     ]
    }
   ],
   "source": [
    "epsilon = 0  # No exploration, only exploitation\n",
    "state = env.reset()\n",
    "done = False\n",
    "total_reward = 0\n",
    "\n",
    "while not done:\n",
    "    action = select_action(state)\n",
    "    state, reward, done, info = env.step(action)\n",
    "    total_reward += reward\n",
    "\n",
    "print(f\"Total Reward: {total_reward}\")"
   ]
  }
 ],
 "metadata": {
  "kernelspec": {
   "display_name": "Python 3",
   "language": "python",
   "name": "python3"
  },
  "language_info": {
   "codemirror_mode": {
    "name": "ipython",
    "version": 3
   },
   "file_extension": ".py",
   "mimetype": "text/x-python",
   "name": "python",
   "nbconvert_exporter": "python",
   "pygments_lexer": "ipython3",
   "version": "3.12.5"
  }
 },
 "nbformat": 4,
 "nbformat_minor": 2
}
