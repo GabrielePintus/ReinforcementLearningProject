{
 "cells": [
  {
   "cell_type": "markdown",
   "metadata": {},
   "source": [
    "# Market Making with Reinforcement Learning"
   ]
  },
  {
   "cell_type": "code",
   "execution_count": 1,
   "metadata": {},
   "outputs": [],
   "source": [
    "# Data Handling\n",
    "import pandas as pd\n",
    "import numpy as np\n",
    "\n",
    "# Generic\n",
    "from collections import defaultdict\n",
    "from tqdm.auto import tqdm\n",
    "\n",
    "# Data Visualization\n",
    "import matplotlib.pyplot as plt \n",
    "\n",
    "# Reinforcement Learning\n",
    "import gym\n",
    "\n",
    "# Custom Modules\n",
    "from Libraries import environment as env\n",
    "from Libraries import agents as ag\n",
    "from Libraries import approximators as val_approx\n",
    "from Libraries import tiling\n",
    "from Libraries.data_handling import DataGenerator\n",
    "from Libraries import utils\n",
    "from Libraries.policies import EpsilonGreedyPolicy\n",
    "\n",
    "# suppress warnings\n",
    "import warnings\n",
    "warnings.filterwarnings(\"ignore\")\n",
    "\n",
    "# Set the seed for reproducibility\n",
    "SEED = 42\n",
    "np.random.seed(SEED)"
   ]
  },
  {
   "cell_type": "markdown",
   "metadata": {},
   "source": [
    "## Define the state space boundaries"
   ]
  },
  {
   "cell_type": "code",
   "execution_count": 2,
   "metadata": {},
   "outputs": [],
   "source": [
    "# Compute state space bounds\n",
    "agent_state_bounds = np.array([\n",
    "    [-1e5, 1e5], # Inventory\n",
    "    [0,2], # Spread\n",
    "    [-1,5], # Theta_a\n",
    "    [-1,5], # Theta_b\n",
    "    [-1,9], # Action\n",
    "])"
   ]
  },
  {
   "cell_type": "markdown",
   "metadata": {},
   "source": [
    "### Define the parameters for the Reinforcement Learning problem"
   ]
  },
  {
   "cell_type": "code",
   "execution_count": 3,
   "metadata": {},
   "outputs": [],
   "source": [
    "rl_problem_params = {\n",
    "    'data_path'         : 'data/lob.csv',\n",
    "    'horizon'           : 100,\n",
    "    'environment_class' : env.Case1MarketMakerEnv,\n",
    "    'phi_transform'     : env.PhiTransform.PnL(),\n",
    "    'state_space_boundaries' : [agent_state_bounds],\n",
    "    # 'agent_class'       : ag.SarsaLambdaAgent,\n",
    "    'agent_class'       : ag.QLambdaAgent,\n",
    "    'value_function_class' : tiling.SparseTileEncodingApproximator,\n",
    "    'lctc_weights'    : np.array([1,]),\n",
    "    'value_approx_params' : {\n",
    "        'n_tiles' : 8,\n",
    "        'n_tilings' : 2,\n",
    "        'offset' : 0.17,\n",
    "        'n_weights' : 128,\n",
    "    },\n",
    "    'agent_params' : {\n",
    "        'alpha' : 1e-3,\n",
    "        'gamma' : 0.99,\n",
    "        'el_decay' : 0.96,\n",
    "    },\n",
    "    'policy_class' : EpsilonGreedyPolicy,\n",
    "    'policy_params' : {\n",
    "        'epsilon' : 0.1,\n",
    "        'epsilon_decay' : 0.992,\n",
    "        'epsilon_min' : 1e-4,\n",
    "    },\n",
    "}\n",
    "\n",
    "rl_problem = utils.RLProblem._from_dict(rl_problem_params)"
   ]
  },
  {
   "cell_type": "markdown",
   "metadata": {},
   "source": [
    "### Train"
   ]
  },
  {
   "cell_type": "code",
   "execution_count": 4,
   "metadata": {},
   "outputs": [
    {
     "data": {
      "application/vnd.jupyter.widget-view+json": {
       "model_id": "caa34c6907ba45b0b685a0fee7203ad5",
       "version_major": 2,
       "version_minor": 0
      },
      "text/plain": [
       "  0%|          | 0/20 [00:00<?, ?it/s]"
      ]
     },
     "metadata": {},
     "output_type": "display_data"
    }
   ],
   "source": [
    "train_rewards, train_infos = rl_problem.train(\n",
    "    n_scenarios=10,\n",
    "    episodes_per_scenario=2,\n",
    "    iterarations_per_episode=3,\n",
    "    verbose=True\n",
    ")"
   ]
  },
  {
   "cell_type": "code",
   "execution_count": 5,
   "metadata": {},
   "outputs": [
    {
     "data": {
      "text/plain": [
       "(2, 3)"
      ]
     },
     "metadata": {},
     "output_type": "display_data"
    },
    {
     "data": {
      "text/plain": [
       "(3,)"
      ]
     },
     "metadata": {},
     "output_type": "display_data"
    },
    {
     "data": {
      "text/plain": [
       "-156.7349999998976"
      ]
     },
     "metadata": {},
     "output_type": "display_data"
    }
   ],
   "source": [
    "# First scenario\n",
    "display(train_rewards[0].shape)\n",
    "# First scenario, first episode\n",
    "display(train_rewards[0][0].shape)\n",
    "# First scenario, first episode, first iteration\n",
    "display(train_rewards[0][0][0])"
   ]
  },
  {
   "cell_type": "markdown",
   "metadata": {},
   "source": [
    "### Test"
   ]
  },
  {
   "cell_type": "code",
   "execution_count": 6,
   "metadata": {},
   "outputs": [
    {
     "data": {
      "application/vnd.jupyter.widget-view+json": {
       "model_id": "4f9e61a49cbe4a35903f51215d4e5faf",
       "version_major": 2,
       "version_minor": 0
      },
      "text/plain": [
       "  0%|          | 0/10 [00:00<?, ?it/s]"
      ]
     },
     "metadata": {},
     "output_type": "display_data"
    }
   ],
   "source": [
    "test_rewards, test_infos = rl_problem.test(\n",
    "    n_scenarios=10,\n",
    "    epsilon=0.0,\n",
    "    oos=False,\n",
    "    verbose=True\n",
    ")"
   ]
  },
  {
   "cell_type": "code",
   "execution_count": 7,
   "metadata": {},
   "outputs": [
    {
     "data": {
      "text/plain": [
       "<Axes: >"
      ]
     },
     "execution_count": 7,
     "metadata": {},
     "output_type": "execute_result"
    },
    {
     "data": {
      "image/png": "[encoded data removed]",
      "text/plain": [
       "<Figure size 640x480 with 1 Axes>"
      ]
     },
     "metadata": {},
     "output_type": "display_data"
    }
   ],
   "source": [
    "df_rewards = pd.DataFrame(test_rewards)\n",
    "df_rewards.mean(axis=1).rolling(10).mean().plot()"
   ]
  },
  {
   "cell_type": "code",
   "execution_count": 8,
   "metadata": {},
   "outputs": [
    {
     "ename": "NotImplementedError",
     "evalue": "This method is not implemented yet.",
     "output_type": "error",
     "traceback": [
      "\u001b[0;31m---------------------------------------------------------------------------\u001b[0m",
      "\u001b[0;31mNotImplementedError\u001b[0m                       Traceback (most recent call last)",
      "Cell \u001b[0;32mIn[8], line 1\u001b[0m\n\u001b[0;32m----> 1\u001b[0m \u001b[43mrl_problem\u001b[49m\u001b[38;5;241;43m.\u001b[39;49m\u001b[43mget_values\u001b[49m\u001b[43m(\u001b[49m\u001b[43m)\u001b[49m\n",
      "File \u001b[0;32m~/github/ReinforcementLearningProject/Libraries/utils.py:108\u001b[0m, in \u001b[0;36mRLProblem.get_values\u001b[0;34m(self)\u001b[0m\n\u001b[1;32m    107\u001b[0m \u001b[38;5;28;01mdef\u001b[39;00m \u001b[38;5;21mget_values\u001b[39m(\u001b[38;5;28mself\u001b[39m):\n\u001b[0;32m--> 108\u001b[0m     \u001b[38;5;28;01mraise\u001b[39;00m \u001b[38;5;167;01mNotImplementedError\u001b[39;00m(\u001b[38;5;124m\"\u001b[39m\u001b[38;5;124mThis method is not implemented yet.\u001b[39m\u001b[38;5;124m\"\u001b[39m)\n",
      "\u001b[0;31mNotImplementedError\u001b[0m: This method is not implemented yet."
     ]
    }
   ],
   "source": [
    "rl_problem.get_values()"
   ]
  }
 ],
 "metadata": {
  "kernelspec": {
   "display_name": "Python 3",
   "language": "python",
   "name": "python3"
  },
  "language_info": {
   "codemirror_mode": {
    "name": "ipython",
    "version": 3
   },
   "file_extension": ".py",
   "mimetype": "text/x-python",
   "name": "python",
   "nbconvert_exporter": "python",
   "pygments_lexer": "ipython3",
   "version": "3.12.5"
  }
 },
 "nbformat": 4,
 "nbformat_minor": 2
}
