{
 "cells": [
  {
   "cell_type": "code",
   "execution_count": 7,
   "metadata": {},
   "outputs": [],
   "source": [
    "import numpy as np\n",
    "import pandas as pd\n",
    "import gymnasium as gym\n",
    "from tqdm.notebook import tqdm\n",
    "import matplotlib.pyplot as plt\n",
    "\n",
    "# Custom modules\n",
    "from discretizer import GridSpace\n",
    "from agent_cont import QAgent \n",
    "\n",
    "\n",
    "SEED = 42\n",
    "\n",
    "np.random.seed(SEED)"
   ]
  },
  {
   "cell_type": "code",
   "execution_count": 8,
   "metadata": {},
   "outputs": [],
   "source": [
    "# env = gym.make('CartPole-v1')\n",
    "env = gym.make('Pendulum-v1')\n",
    "\n",
    "\n",
    "action_gridspace = GridSpace(\n",
    "    bounds = np.array([ [-2., 2.] ]),\n",
    "    n_tiles = 50,\n",
    "    single_idx = False\n",
    ")\n",
    "state_gridspace = GridSpace(\n",
    "    bounds = np.array([ [-1., 1.], [-1., 1.], [-8., 8.] ]),\n",
    "    n_tiles = 50,\n",
    "    single_idx = False\n",
    ")\n",
    "\n",
    "agent = QAgent(\n",
    "    env=env,\n",
    "    discount_factor=0.999,\n",
    "    initial_epsilon=1.0,\n",
    "    epsilon_decay=0.998,\n",
    "    min_epsilon=0.0,\n",
    "    learning_rate=0.99,\n",
    "    seed=SEED,\n",
    "    action_gridspace = action_gridspace,\n",
    "    state_gridspace = state_gridspace\n",
    ")"
   ]
  },
  {
   "cell_type": "code",
   "execution_count": 9,
   "metadata": {},
   "outputs": [
    {
     "data": {
      "application/vnd.jupyter.widget-view+json": {
       "model_id": "e8a4efac19da4caf84b078fd5633f691",
       "version_major": 2,
       "version_minor": 0
      },
      "text/plain": [
       "Episodes:   0%|          | 0/100 [00:00<?, ?it/s]"
      ]
     },
     "metadata": {},
     "output_type": "display_data"
    }
   ],
   "source": [
    "rewards = agent.learn(100, 1e2)"
   ]
  },
  {
   "cell_type": "code",
   "execution_count": 10,
   "metadata": {},
   "outputs": [
    {
     "data": {
      "image/png": "[encoded data removed]",
      "text/plain": [
       "<Figure size 640x480 with 1 Axes>"
      ]
     },
     "metadata": {},
     "output_type": "display_data"
    }
   ],
   "source": [
    "rewards_train = pd.Series(rewards)\n",
    "fig, ax = plt.subplots()\n",
    "ax.plot(rewards_train.rolling(100).mean())\n",
    "ax.set_xlabel('Episode')\n",
    "ax.set_ylabel('Reward')\n",
    "ax.set_title(agent.__class__.__name__)\n",
    "plt.show()"
   ]
  },
  {
   "cell_type": "code",
   "execution_count": null,
   "metadata": {},
   "outputs": [
    {
     "data": {
      "application/vnd.jupyter.widget-view+json": {
       "model_id": "9e05b9e091674ea8a53cebb03dfd8c07",
       "version_major": 2,
       "version_minor": 0
      },
      "text/plain": [
       "  0%|          | 0/1 [00:00<?, ?it/s]"
      ]
     },
     "metadata": {},
     "output_type": "display_data"
    },
    {
     "name": "stdout",
     "output_type": "stream",
     "text": [
      "Average reward: -791.870070\n",
      "Std reward: 0.00\n"
     ]
    }
   ],
   "source": [
    "rewards_play = agent.play(1, horizon=1e2, render = False)\n",
    "\n",
    "print(f'Average reward: {np.mean(rewards_play):2f}')\n",
    "print(f'Std reward: {np.std(rewards_play):.2f}')"
   ]
  },
  {
   "cell_type": "code",
   "execution_count": 12,
   "metadata": {},
   "outputs": [],
   "source": [
    "env.close()"
   ]
  },
  {
   "cell_type": "code",
   "execution_count": 13,
   "metadata": {},
   "outputs": [
    {
     "data": {
      "text/plain": [
       "False"
      ]
     },
     "execution_count": 13,
     "metadata": {},
     "output_type": "execute_result"
    }
   ],
   "source": [
    "any(rewards_train > 0)"
   ]
  }
 ],
 "metadata": {
  "kernelspec": {
   "display_name": "venv",
   "language": "python",
   "name": "python3"
  },
  "language_info": {
   "codemirror_mode": {
    "name": "ipython",
    "version": 3
   },
   "file_extension": ".py",
   "mimetype": "text/x-python",
   "name": "python",
   "nbconvert_exporter": "python",
   "pygments_lexer": "ipython3",
   "version": "3.12.3"
  }
 },
 "nbformat": 4,
 "nbformat_minor": 2
}
