{
 "cells": [
  {
   "cell_type": "code",
   "execution_count": 1,
   "metadata": {},
   "outputs": [
    {
     "data": {
      "text/plain": [
       "<torch._C.Generator at 0x7f1289539850>"
      ]
     },
     "execution_count": 1,
     "metadata": {},
     "output_type": "execute_result"
    }
   ],
   "source": [
    "import numpy as np\n",
    "import pandas as pd\n",
    "import torch\n",
    "\n",
    "# Custom modules\n",
    "from approximators import MLP, QValueApproximator\n",
    "from states import EnvironmentState\n",
    "from agents import LearningAgent\n",
    "from data import DataGenerator\n",
    "\n",
    "SEED = 42\n",
    "np.random.seed(SEED)\n",
    "torch.manual_seed(SEED)"
   ]
  },
  {
   "cell_type": "code",
   "execution_count": 2,
   "metadata": {},
   "outputs": [],
   "source": [
    "n_levels = 4\n",
    "horizon = 50\n",
    "action_size = 10\n",
    "\n",
    "data = DataGenerator.generator(\"../data/AAPL.parquet\", levels=n_levels)\n",
    "state = EnvironmentState(data, n_levels, action_size)"
   ]
  },
  {
   "cell_type": "code",
   "execution_count": 3,
   "metadata": {},
   "outputs": [
    {
     "name": "stdout",
     "output_type": "stream",
     "text": [
      "Using cuda device\n"
     ]
    }
   ],
   "source": [
    "device = torch.device(\"cuda\" if torch.cuda.is_available() else \"cpu\")\n",
    "print(f\"Using {device} device\")\n",
    "\n",
    "model = MLP(10, 1, [32, 32], torch.nn.ReLU, 0.1, device).to(device)\n",
    "q_approximator = QValueApproximator(model, 1e-3)"
   ]
  },
  {
   "cell_type": "code",
   "execution_count": 4,
   "metadata": {},
   "outputs": [],
   "source": [
    "agent = LearningAgent(\n",
    "    action_size=action_size,\n",
    "    q_value_approximator=q_approximator,\n",
    "    epsilon=0.5,\n",
    "    epsilon_decay=0.99,\n",
    "    min_epsilon=0.01,\n",
    "    gamma=0.99,\n",
    ")\n",
    "\n",
    "env = EnvironmentState(data, n_levels, horizon)"
   ]
  },
  {
   "cell_type": "code",
   "execution_count": 5,
   "metadata": {},
   "outputs": [
    {
     "name": "stdout",
     "output_type": "stream",
     "text": [
      "Time 0\n",
      "Action 6\n",
      "Orders\n",
      "[(586.5299999999999, 100, 'ask'), (585.93, 100, 'bid')]\n",
      "\n",
      "Order 0\n",
      "Order 1\n",
      "Order completed\n",
      "Next state [ 5.70000000e-01  1.50000000e-02 -6.94915254e-01 -8.20000000e+01\n",
      "  8.29727627e-06  6.25000000e+01  1.00000000e+02  3.00000000e+00\n",
      "  1.00000000e+00]\n",
      "State [ 6.0000002e-01  0.0000000e+00 -6.9491524e-01 -8.2000000e+01\n",
      "  3.5999046e-06  4.0000000e+01  0.0000000e+00  3.0000000e+00\n",
      "  1.0000000e+00  6.0000000e+00]\n",
      "tensor([ 6.0000e-01,  0.0000e+00, -6.9492e-01, -8.2000e+01,  3.5999e-06,\n",
      "         4.0000e+01,  0.0000e+00,  3.0000e+00,  1.0000e+00,  6.0000e+00],\n",
      "       device='cuda:0')\n",
      "tensor([ 5.7000e-01,  1.5000e-02, -6.9492e-01, -8.2000e+01,  8.2973e-06,\n",
      "         6.2500e+01,  1.0000e+02,  3.0000e+00,  1.0000e+00,  0.0000e+00],\n",
      "       device='cuda:0')\n",
      "tensor([ 5.7000e-01,  1.5000e-02, -6.9492e-01, -8.2000e+01,  8.2973e-06,\n",
      "         6.2500e+01,  1.0000e+02,  3.0000e+00,  1.0000e+00,  1.0000e+00],\n",
      "       device='cuda:0')\n",
      "tensor([ 5.7000e-01,  1.5000e-02, -6.9492e-01, -8.2000e+01,  8.2973e-06,\n",
      "         6.2500e+01,  1.0000e+02,  3.0000e+00,  1.0000e+00,  2.0000e+00],\n",
      "       device='cuda:0')\n",
      "tensor([ 5.7000e-01,  1.5000e-02, -6.9492e-01, -8.2000e+01,  8.2973e-06,\n",
      "         6.2500e+01,  1.0000e+02,  3.0000e+00,  1.0000e+00,  3.0000e+00],\n",
      "       device='cuda:0')\n",
      "tensor([ 5.7000e-01,  1.5000e-02, -6.9492e-01, -8.2000e+01,  8.2973e-06,\n",
      "         6.2500e+01,  1.0000e+02,  3.0000e+00,  1.0000e+00,  4.0000e+00],\n",
      "       device='cuda:0')\n",
      "tensor([ 5.7000e-01,  1.5000e-02, -6.9492e-01, -8.2000e+01,  8.2973e-06,\n",
      "         6.2500e+01,  1.0000e+02,  3.0000e+00,  1.0000e+00,  5.0000e+00],\n",
      "       device='cuda:0')\n",
      "tensor([ 5.7000e-01,  1.5000e-02, -6.9492e-01, -8.2000e+01,  8.2973e-06,\n",
      "         6.2500e+01,  1.0000e+02,  3.0000e+00,  1.0000e+00,  6.0000e+00],\n",
      "       device='cuda:0')\n",
      "tensor([ 5.7000e-01,  1.5000e-02, -6.9492e-01, -8.2000e+01,  8.2973e-06,\n",
      "         6.2500e+01,  1.0000e+02,  3.0000e+00,  1.0000e+00,  7.0000e+00],\n",
      "       device='cuda:0')\n",
      "tensor([ 5.7000e-01,  1.5000e-02, -6.9492e-01, -8.2000e+01,  8.2973e-06,\n",
      "         6.2500e+01,  1.0000e+02,  3.0000e+00,  1.0000e+00,  8.0000e+00],\n",
      "       device='cuda:0')\n",
      "tensor([ 5.7000e-01,  1.5000e-02, -6.9492e-01, -8.2000e+01,  8.2973e-06,\n",
      "         6.2500e+01,  1.0000e+02,  3.0000e+00,  1.0000e+00,  9.0000e+00],\n",
      "       device='cuda:0')\n",
      "Y_true [-28.259999999996136]\n",
      "Y_true shape torch.Size([1])\n",
      "Y_pred shape torch.Size([1])\n"
     ]
    },
    {
     "ename": "RuntimeError",
     "evalue": "element 0 of tensors does not require grad and does not have a grad_fn",
     "output_type": "error",
     "traceback": [
      "\u001b[0;31m---------------------------------------------------------------------------\u001b[0m",
      "\u001b[0;31mRuntimeError\u001b[0m                              Traceback (most recent call last)",
      "Cell \u001b[0;32mIn[5], line 3\u001b[0m\n\u001b[1;32m      1\u001b[0m n_episodes \u001b[38;5;241m=\u001b[39m \u001b[38;5;241m10\u001b[39m\n\u001b[0;32m----> 3\u001b[0m \u001b[43magent\u001b[49m\u001b[38;5;241;43m.\u001b[39;49m\u001b[43mtrain\u001b[49m\u001b[43m(\u001b[49m\u001b[43menv\u001b[49m\u001b[43m,\u001b[49m\u001b[43m \u001b[49m\u001b[43mn_episodes\u001b[49m\u001b[43m)\u001b[49m\n",
      "File \u001b[0;32m~/Documenti/Progetti/ReinforcementLearningProject/NUOVO/agents.py:76\u001b[0m, in \u001b[0;36mLearningAgent.train\u001b[0;34m(self, env, n_episodes)\u001b[0m\n\u001b[1;32m     74\u001b[0m \u001b[38;5;66;03m# Learn from the transition\u001b[39;00m\n\u001b[1;32m     75\u001b[0m \u001b[38;5;28;01mif\u001b[39;00m \u001b[38;5;129;01mnot\u001b[39;00m done:\n\u001b[0;32m---> 76\u001b[0m     \u001b[38;5;28;43mself\u001b[39;49m\u001b[38;5;241;43m.\u001b[39;49m\u001b[43mlearn\u001b[49m\u001b[43m(\u001b[49m\u001b[43mstate\u001b[49m\u001b[43m,\u001b[49m\u001b[43m \u001b[49m\u001b[43maction\u001b[49m\u001b[43m,\u001b[49m\u001b[43m \u001b[49m\u001b[43mreward\u001b[49m\u001b[43m,\u001b[49m\u001b[43m \u001b[49m\u001b[43mnext_state\u001b[49m\u001b[43m)\u001b[49m\n\u001b[1;32m     78\u001b[0m \u001b[38;5;66;03m# Update the state\u001b[39;00m\n\u001b[1;32m     79\u001b[0m state \u001b[38;5;241m=\u001b[39m next_state\n",
      "File \u001b[0;32m~/Documenti/Progetti/ReinforcementLearningProject/NUOVO/agents.py:107\u001b[0m, in \u001b[0;36mLearningAgent.learn\u001b[0;34m(self, state, action, reward, next_state)\u001b[0m\n\u001b[1;32m    104\u001b[0m \u001b[38;5;28mprint\u001b[39m(\u001b[38;5;124m'\u001b[39m\u001b[38;5;124mY_true\u001b[39m\u001b[38;5;124m'\u001b[39m, y_true)\n\u001b[1;32m    106\u001b[0m \u001b[38;5;66;03m# Update the Q-value approximator - Returns the loss\u001b[39;00m\n\u001b[0;32m--> 107\u001b[0m _ \u001b[38;5;241m=\u001b[39m \u001b[38;5;28;43mself\u001b[39;49m\u001b[38;5;241;43m.\u001b[39;49m\u001b[43mq_value_approximator\u001b[49m\u001b[38;5;241;43m.\u001b[39;49m\u001b[43mupdate\u001b[49m\u001b[43m(\u001b[49m\u001b[43my_true\u001b[49m\u001b[43m,\u001b[49m\u001b[43m \u001b[49m\u001b[43my_pred\u001b[49m\u001b[43m)\u001b[49m\n",
      "File \u001b[0;32m~/Documenti/Progetti/ReinforcementLearningProject/NUOVO/approximators.py:94\u001b[0m, in \u001b[0;36mQValueApproximator.update\u001b[0;34m(self, y_true, y_pred)\u001b[0m\n\u001b[1;32m     92\u001b[0m loss \u001b[38;5;241m=\u001b[39m \u001b[38;5;28mself\u001b[39m\u001b[38;5;241m.\u001b[39mcriterion(y_pred, y_true)\n\u001b[1;32m     93\u001b[0m \u001b[38;5;28mself\u001b[39m\u001b[38;5;241m.\u001b[39moptimizer\u001b[38;5;241m.\u001b[39mzero_grad()\n\u001b[0;32m---> 94\u001b[0m \u001b[43mloss\u001b[49m\u001b[38;5;241;43m.\u001b[39;49m\u001b[43mbackward\u001b[49m\u001b[43m(\u001b[49m\u001b[43m)\u001b[49m\n\u001b[1;32m     95\u001b[0m \u001b[38;5;28mself\u001b[39m\u001b[38;5;241m.\u001b[39moptimizer\u001b[38;5;241m.\u001b[39mstep()\n\u001b[1;32m     96\u001b[0m \u001b[38;5;28;01mreturn\u001b[39;00m loss\u001b[38;5;241m.\u001b[39mitem()\n",
      "File \u001b[0;32m~/.local/lib/python3.12/site-packages/torch/_tensor.py:522\u001b[0m, in \u001b[0;36mTensor.backward\u001b[0;34m(self, gradient, retain_graph, create_graph, inputs)\u001b[0m\n\u001b[1;32m    512\u001b[0m \u001b[38;5;28;01mif\u001b[39;00m has_torch_function_unary(\u001b[38;5;28mself\u001b[39m):\n\u001b[1;32m    513\u001b[0m     \u001b[38;5;28;01mreturn\u001b[39;00m handle_torch_function(\n\u001b[1;32m    514\u001b[0m         Tensor\u001b[38;5;241m.\u001b[39mbackward,\n\u001b[1;32m    515\u001b[0m         (\u001b[38;5;28mself\u001b[39m,),\n\u001b[0;32m   (...)\u001b[0m\n\u001b[1;32m    520\u001b[0m         inputs\u001b[38;5;241m=\u001b[39minputs,\n\u001b[1;32m    521\u001b[0m     )\n\u001b[0;32m--> 522\u001b[0m \u001b[43mtorch\u001b[49m\u001b[38;5;241;43m.\u001b[39;49m\u001b[43mautograd\u001b[49m\u001b[38;5;241;43m.\u001b[39;49m\u001b[43mbackward\u001b[49m\u001b[43m(\u001b[49m\n\u001b[1;32m    523\u001b[0m \u001b[43m    \u001b[49m\u001b[38;5;28;43mself\u001b[39;49m\u001b[43m,\u001b[49m\u001b[43m \u001b[49m\u001b[43mgradient\u001b[49m\u001b[43m,\u001b[49m\u001b[43m \u001b[49m\u001b[43mretain_graph\u001b[49m\u001b[43m,\u001b[49m\u001b[43m \u001b[49m\u001b[43mcreate_graph\u001b[49m\u001b[43m,\u001b[49m\u001b[43m \u001b[49m\u001b[43minputs\u001b[49m\u001b[38;5;241;43m=\u001b[39;49m\u001b[43minputs\u001b[49m\n\u001b[1;32m    524\u001b[0m \u001b[43m\u001b[49m\u001b[43m)\u001b[49m\n",
      "File \u001b[0;32m~/.local/lib/python3.12/site-packages/torch/autograd/__init__.py:266\u001b[0m, in \u001b[0;36mbackward\u001b[0;34m(tensors, grad_tensors, retain_graph, create_graph, grad_variables, inputs)\u001b[0m\n\u001b[1;32m    261\u001b[0m     retain_graph \u001b[38;5;241m=\u001b[39m create_graph\n\u001b[1;32m    263\u001b[0m \u001b[38;5;66;03m# The reason we repeat the same comment below is that\u001b[39;00m\n\u001b[1;32m    264\u001b[0m \u001b[38;5;66;03m# some Python versions print out the first line of a multi-line function\u001b[39;00m\n\u001b[1;32m    265\u001b[0m \u001b[38;5;66;03m# calls in the traceback and some print out the last line\u001b[39;00m\n\u001b[0;32m--> 266\u001b[0m \u001b[43mVariable\u001b[49m\u001b[38;5;241;43m.\u001b[39;49m\u001b[43m_execution_engine\u001b[49m\u001b[38;5;241;43m.\u001b[39;49m\u001b[43mrun_backward\u001b[49m\u001b[43m(\u001b[49m\u001b[43m  \u001b[49m\u001b[38;5;66;43;03m# Calls into the C++ engine to run the backward pass\u001b[39;49;00m\n\u001b[1;32m    267\u001b[0m \u001b[43m    \u001b[49m\u001b[43mtensors\u001b[49m\u001b[43m,\u001b[49m\n\u001b[1;32m    268\u001b[0m \u001b[43m    \u001b[49m\u001b[43mgrad_tensors_\u001b[49m\u001b[43m,\u001b[49m\n\u001b[1;32m    269\u001b[0m \u001b[43m    \u001b[49m\u001b[43mretain_graph\u001b[49m\u001b[43m,\u001b[49m\n\u001b[1;32m    270\u001b[0m \u001b[43m    \u001b[49m\u001b[43mcreate_graph\u001b[49m\u001b[43m,\u001b[49m\n\u001b[1;32m    271\u001b[0m \u001b[43m    \u001b[49m\u001b[43minputs\u001b[49m\u001b[43m,\u001b[49m\n\u001b[1;32m    272\u001b[0m \u001b[43m    \u001b[49m\u001b[43mallow_unreachable\u001b[49m\u001b[38;5;241;43m=\u001b[39;49m\u001b[38;5;28;43;01mTrue\u001b[39;49;00m\u001b[43m,\u001b[49m\n\u001b[1;32m    273\u001b[0m \u001b[43m    \u001b[49m\u001b[43maccumulate_grad\u001b[49m\u001b[38;5;241;43m=\u001b[39;49m\u001b[38;5;28;43;01mTrue\u001b[39;49;00m\u001b[43m,\u001b[49m\n\u001b[1;32m    274\u001b[0m \u001b[43m\u001b[49m\u001b[43m)\u001b[49m\n",
      "\u001b[0;31mRuntimeError\u001b[0m: element 0 of tensors does not require grad and does not have a grad_fn"
     ]
    }
   ],
   "source": [
    "n_episodes = 10\n",
    "\n",
    "agent.train(env, n_episodes)"
   ]
  }
 ],
 "metadata": {
  "kernelspec": {
   "display_name": "usr",
   "language": "python",
   "name": "python3"
  },
  "language_info": {
   "codemirror_mode": {
    "name": "ipython",
    "version": 3
   },
   "file_extension": ".py",
   "mimetype": "text/x-python",
   "name": "python",
   "nbconvert_exporter": "python",
   "pygments_lexer": "ipython3",
   "version": "3.12.7"
  }
 },
 "nbformat": 4,
 "nbformat_minor": 2
}
